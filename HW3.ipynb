{
 "cells": [
  {
   "cell_type": "code",
   "execution_count": 5,
   "metadata": {
    "collapsed": true
   },
   "outputs": [],
   "source": [
    "import numpy as np\n",
    "import urllib\n",
    "import scipy.optimize\n",
    "from scipy.cluster.vq import *\n",
    "import random\n",
    "from sklearn.decomposition import PCA\n",
    "from collections import defaultdict\n",
    "import matplotlib.pyplot as plt\n",
    "import gzip\n",
    "from collections import defaultdict"
   ]
  },
  {
   "cell_type": "code",
   "execution_count": 6,
   "metadata": {
    "collapsed": false
   },
   "outputs": [],
   "source": [
    "def readGz(f):\n",
    "  for l in gzip.open(f):\n",
    "    yield eval(l)"
   ]
  },
  {
   "cell_type": "code",
   "execution_count": 10,
   "metadata": {
    "collapsed": false
   },
   "outputs": [],
   "source": [
    "allRatings = []\n",
    "\n",
    "for l in readGz(\"homework3/train.json.gz\"):\n",
    "    allRatings.append(l['rating'])   "
   ]
  },
  {
   "cell_type": "code",
   "execution_count": 12,
   "metadata": {
    "collapsed": false
   },
   "outputs": [
    {
     "name": "stdout",
     "output_type": "stream",
     "text": [
      "simple predictor alpha is  3.60335\n"
     ]
    }
   ],
   "source": [
    "averageRate = sum([x for x in allRatings]) * 1.0 / len(allRatings)\n",
    "print \"simple predictor alpha is \", averageRate"
   ]
  },
  {
   "cell_type": "code",
   "execution_count": 23,
   "metadata": {
    "collapsed": false
   },
   "outputs": [
    {
     "name": "stdout",
     "output_type": "stream",
     "text": [
      "MSE for simple predictor is  2.6178318925\n"
     ]
    }
   ],
   "source": [
    "# calculate the MSE\n",
    "testRating = []\n",
    "with open(\"homework3/labeled_Rating.txt\") as f:\n",
    "    for line in f:\n",
    "        line = line.split()\n",
    "        testRating.append(float(line[2]))\n",
    "        \n",
    "# calculate MSE\n",
    "mean = 3.60335\n",
    "error = 0.0\n",
    "\n",
    "for rating in testRating:\n",
    "    error = error + pow((rating - mean),2)\n",
    "    \n",
    "print \"MSE for simple predictor is \", error * 1.0/len(testRating)"
   ]
  },
  {
   "cell_type": "code",
   "execution_count": null,
   "metadata": {
    "collapsed": true
   },
   "outputs": [],
   "source": []
  }
 ],
 "metadata": {
  "kernelspec": {
   "display_name": "Python 2",
   "language": "python",
   "name": "python2"
  },
  "language_info": {
   "codemirror_mode": {
    "name": "ipython",
    "version": 2
   },
   "file_extension": ".py",
   "mimetype": "text/x-python",
   "name": "python",
   "nbconvert_exporter": "python",
   "pygments_lexer": "ipython2",
   "version": "2.7.9"
  }
 },
 "nbformat": 4,
 "nbformat_minor": 0
}
