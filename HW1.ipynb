{
 "cells": [
  {
   "cell_type": "code",
   "execution_count": 1,
   "metadata": {
    "collapsed": true
   },
   "outputs": [],
   "source": [
    "import numpy as np\n",
    "import urllib\n",
    "import scipy.optimize\n",
    "import random\n",
    "from sklearn.metrics import mean_squared_error"
   ]
  },
  {
   "cell_type": "code",
   "execution_count": 2,
   "metadata": {
    "collapsed": true
   },
   "outputs": [],
   "source": [
    "def parseData(fname):\n",
    "  for l in urllib.urlopen(fname):\n",
    "    yield eval(l)"
   ]
  },
  {
   "cell_type": "code",
   "execution_count": 3,
   "metadata": {
    "collapsed": false
   },
   "outputs": [
    {
     "name": "stdout",
     "output_type": "stream",
     "text": [
      "Reading data...\n",
      "done\n"
     ]
    }
   ],
   "source": [
    "print \"Reading data...\"\n",
    "data = list(parseData(\"http://jmcauley.ucsd.edu/cse190/data/beer/beer_50000.json\"))\n",
    "print \"done\""
   ]
  },
  {
   "cell_type": "code",
   "execution_count": 4,
   "metadata": {
    "collapsed": false
   },
   "outputs": [
    {
     "name": "stdout",
     "output_type": "stream",
     "text": [
      "unique beerId is  1923\n",
      "unique profileName is  8376\n",
      "mean of review/appearance is  3.8984\n",
      "mean of review/apperance is  3.85267\n",
      "mean of review/overall is  3.88871\n",
      "mean of review/aroma is  3.87152\n",
      "mean of review/taste is  3.92225\n",
      "mean of beer/ABV is  7.400287\n"
     ]
    }
   ],
   "source": [
    "# part 1 of the hw\n",
    "\n",
    "tmp = [d['beer/beerId'] for d in data]\n",
    "unique = set(tmp)\n",
    "print \"unique beerId is \" , len(unique)\n",
    "\n",
    "tmp = [d['user/profileName'] for d in data]\n",
    "unique = set(tmp)\n",
    "print \"unique profileName is \" , len(unique)\n",
    "\n",
    "tmp = [d['review/appearance'] for d in data]\n",
    "print \"mean of review/appearance is \", np.mean(tmp)\n",
    "\n",
    "tmp = [d['review/palate'] for d in data]\n",
    "print \"mean of review/apperance is \", np.mean(tmp)\n",
    "\n",
    "tmp = [d['review/overall'] for d in data]\n",
    "print \"mean of review/overall is \", np.mean(tmp)\n",
    "\n",
    "tmp = [d['review/aroma'] for d in data]\n",
    "print \"mean of review/aroma is \", np.mean(tmp)\n",
    "\n",
    "tmp = [d['review/taste'] for d in data]\n",
    "print \"mean of review/taste is \", np.mean(tmp)\n",
    "\n",
    "tmp = [d['beer/ABV'] for d in data]\n",
    "print \"mean of beer/ABV is \", np.mean(tmp)\n"
   ]
  },
  {
   "cell_type": "code",
   "execution_count": 5,
   "metadata": {
    "collapsed": false
   },
   "outputs": [
    {
     "name": "stdout",
     "output_type": "stream",
     "text": [
      "varience of the revew/tast scores is  0.5135699375\n",
      "MSE is  0.5135699375\n"
     ]
    }
   ],
   "source": [
    "# part 2 of the hw\n",
    "tmp = [d['review/taste'] for d in data]\n",
    "print \"varience of the revew/tast scores is \", np.var(tmp)\n",
    "\n",
    "# actual review/taste\n",
    "y_true = tmp\n",
    "# predicting use mean value score\n",
    "y_pred = [np.mean(tmp)]*len(tmp)\n",
    "print \"MSE is \",mean_squared_error(y_true,y_pred)"
   ]
  },
  {
   "cell_type": "code",
   "execution_count": 6,
   "metadata": {
    "collapsed": false
   },
   "outputs": [
    {
     "name": "stdout",
     "output_type": "stream",
     "text": [
      "[ 3.11521115  0.10905507]\n"
     ]
    }
   ],
   "source": [
    "# part 3 train a linear regression predictor to use beer/ABV to predict review/taste\n",
    "def feature(datum):\n",
    "  feat = [1]\n",
    "  feat.append(datum['beer/ABV'])\n",
    "  return feat\n",
    "\n",
    "X = [feature(d) for d in data]\n",
    "y = [d['review/taste'] for d in data]\n",
    "theta,residuals,rank,s = np.linalg.lstsq(X, y)\n",
    "# the second theta is saying how much the function will change\n",
    "print theta\n",
    "# starting from 3.1152, for every 0.1 increase in ABV, the overall rating will increase by 0.10905507"
   ]
  },
  {
   "cell_type": "code",
   "execution_count": 7,
   "metadata": {
    "collapsed": false,
    "scrolled": false
   },
   "outputs": [
    {
     "name": "stdout",
     "output_type": "stream",
     "text": [
      "theta values are  [ 2.99503282  0.11690802]\n",
      "MSE in training is  0.483983105115\n",
      "MSE in testing is  0.423776528023\n"
     ]
    }
   ],
   "source": [
    "#part 4\n",
    "def split_list(a_list):\n",
    "    half = len(a_list)/2\n",
    "    return (a_list[:half], a_list[half:])\n",
    "\n",
    "training,testing = split_list(data)\n",
    "X = [feature(d) for d in training]\n",
    "y = [d['review/taste'] for d in training]\n",
    "theta,residuals,rank,s = np.linalg.lstsq(X, y)\n",
    "print \"theta values are \", theta\n",
    "\n",
    "# predictor using the theta values - MSE for training\n",
    "predictor = [np.dot(np.array(d),theta) for d in X]\n",
    "print \"MSE in training is \",mean_squared_error(y,predictor)\n",
    "\n",
    "# predictor using the theta values - MSE for testing\n",
    "X_test = [feature(d) for d in testing]\n",
    "y_test = [d['review/taste'] for d in testing]\n",
    "# predictor in the form Xi * theta\n",
    "predictor = [np.dot(d,theta) for d in X_test]\n",
    "print \"MSE in testing is \",mean_squared_error(y_test,predictor)"
   ]
  },
  {
   "cell_type": "code",
   "execution_count": 8,
   "metadata": {
    "collapsed": false
   },
   "outputs": [
    {
     "name": "stdout",
     "output_type": "stream",
     "text": [
      "[  3.92582160e+00   3.97007042e-03   3.86265228e-02   4.42207313e-03\n",
      "   4.97325107e-02  -8.22241008e-03  -2.02324724e-02  -1.03629083e-01\n",
      "  -1.92081759e-01  -1.08828132e-01  -1.28435975e-01  -1.52862413e-01\n",
      "  -6.39029916e-02  -1.43347369e-01  -4.80438185e-02  -2.42063246e-02\n",
      "  -5.23709815e-03  -5.24520310e-02  -6.44730682e-02  -2.38329599e-02\n",
      "  -4.27309814e-02  -3.19646756e-02  -3.64687779e-02  -1.61435509e-04]\n",
      "MSE for training is  0.556389095815\n",
      "MSE for test is  0.469519600621\n"
     ]
    }
   ],
   "source": [
    "# part 5 incorporate the time of day into predicting the taste rating\n",
    "def feature(datum):\n",
    "  feat = [1]\n",
    "  #feat.append(datum['beer/ABV'])\n",
    "  # length of the feature is 23\n",
    "  tmp = [0]*23 \n",
    "  if datum['review/timeStruct']['hour'] == 0:\n",
    "        for i in tmp:\n",
    "            feat.append(i)\n",
    "  else:\n",
    "    tmp[int(datum['review/timeStruct']['hour'])-1] = 1\n",
    "    for i in tmp:\n",
    "        feat.append(i)\n",
    "  return feat\n",
    "\n",
    "X = [feature(d) for d in training]\n",
    "y = [d['review/taste'] for d in training]\n",
    "theta,residuals,rank,s = np.linalg.lstsq(X, y)\n",
    "print theta\n",
    "\n",
    "# MSE for training set\n",
    "predictor = [np.dot(d,theta) for d in X]\n",
    "print \"MSE for training is \",mean_squared_error(y,predictor)\n",
    "\n",
    "X_test = [feature(d) for d in testing]\n",
    "y_test = [d['review/taste'] for d in testing]\n",
    "# predictor in the form Xi * theta\n",
    "predictor = [np.dot(feature,theta) for feature in X_test]\n",
    "print \"MSE for test is \",mean_squared_error(y_test,predictor)"
   ]
  },
  {
   "cell_type": "code",
   "execution_count": 4,
   "metadata": {
    "collapsed": false
   },
   "outputs": [
    {
     "name": "stdout",
     "output_type": "stream",
     "text": [
      "Reading book description data ... \n",
      "done reading book description\n"
     ]
    }
   ],
   "source": [
    "# task 2 classifiction\n",
    "print \"Reading book description data ... \"\n",
    "data2 = list(parseData(\"http://jmcauley.ucsd.edu/cse190/data/amazon/book_descriptions_50000.json\"))\n",
    "print \"done reading book description\""
   ]
  },
  {
   "cell_type": "code",
   "execution_count": 11,
   "metadata": {
    "collapsed": false
   },
   "outputs": [
    {
     "name": "stdout",
     "output_type": "stream",
     "text": [
      "p (has category Romance) is  0.03198\n",
      "p (has love in description | romance in categories) is  0.487804878049\n"
     ]
    }
   ],
   "source": [
    "# part 1: calcualte the probablity of having categories Romance\n",
    "prior = [\"Romance\" in b['categories'] for b in data2]\n",
    "print \"p (has category Romance) is \", float(sum(prior))/len(data2)\n",
    "\n",
    "# part 2: p(mentions “love” in description | has category “Romance”)\n",
    "prior = [\"love\" in b['description'] for b in data2 if \"Romance\" in b['categories']]\n",
    "print \"p (has love in description | romance in categories) is \", sum(prior) * 1.0/len(prior)"
   ]
  },
  {
   "cell_type": "code",
   "execution_count": 22,
   "metadata": {
    "collapsed": false
   },
   "outputs": [
    {
     "name": "stdout",
     "output_type": "stream",
     "text": [
      "prediction is love and beaut is  0.224595504318\n",
      "prediction no love beaut is  0.0482013797022\n",
      "prediction love no beaut is  0.0833034729341\n",
      "prediction no love no beaut is  0.0178781064278\n",
      "prediction all false \n"
     ]
    }
   ],
   "source": [
    "# p(has category “Romance” | mentions “love” in description ∧ mentions “beaut” in description)\n",
    "# use naive bayes\n",
    "prior = ['Romance' in b['categories'] for b in data2]\n",
    "prior = sum(prior)*1.0/len(prior)\n",
    "\n",
    "likelihood_1 =['love' in b['description'] for b in data2 if 'Romance' in b['categories']]\n",
    "likelihood_1 = sum(likelihood_1)*1.0/len(likelihood_1)\n",
    "\n",
    "likelihood_2 =['beaut' in b['description'] for b in data2 if 'Romance' in b['categories']]\n",
    "likelihood_2 = sum(likelihood_2)*1.0/len(likelihood_2)\n",
    "\n",
    "nominator = prior * likelihood_1 * likelihood_2\n",
    "\n",
    "prior_neg = 1- prior\n",
    "\n",
    "likelihood_1_neg =['love' in b['description'] for b in data2 if not 'Romance' in b['categories']]\n",
    "likelihood_1_neg = sum(likelihood_1_neg)*1.0/len(likelihood_1_neg)\n",
    "\n",
    "likelihood_2_neg =['beaut' in b['description'] for b in data2 if not 'Romance' in b['categories']]\n",
    "likelihood_2_neg = sum(likelihood_2_neg)*1.0/len(likelihood_2_neg)\n",
    "\n",
    "denominator = prior_neg * likelihood_1_neg * likelihood_2_neg\n",
    "\n",
    "prediction = nominator/denominator\n",
    "print \"prediction is love and beaut is \", prediction\n",
    "\n",
    "\n",
    "# p(has category “Romance” | doesn't mentions “love” in description ∧ mentions “beaut” in description)\n",
    "likelihood_1 =[not 'love' in b['description'] for b in data2 if 'Romance' in b['categories']]\n",
    "likelihood_1 = sum(likelihood_1)*1.0/len(likelihood_1)\n",
    "\n",
    "likelihood_1_neg =[not 'love' in b['description'] for b in data2 if not 'Romance' in b['categories']]\n",
    "likelihood_1_neg = sum(likelihood_1_neg)*1.0/len(likelihood_1_neg)\n",
    "\n",
    "nominator = prior * likelihood_1 * likelihood_2\n",
    "denominator = prior_neg * likelihood_1_neg * likelihood_2_neg\n",
    "prediction = nominator/denominator\n",
    "print \"prediction no love beaut is \", prediction\n",
    "\n",
    "\n",
    "# p(has category “Romance” | mentions “love” in description ∧ doesn't mentions “beaut” in description)\n",
    "likelihood_2 =[not 'beaut' in b['description'] for b in data2 if 'Romance' in b['categories']]\n",
    "likelihood_2 = sum(likelihood_2)*1.0/len(likelihood_2)\n",
    "\n",
    "likelihood_2_neg =[not 'beaut' in b['description'] for b in data2 if not 'Romance' in b['categories']]\n",
    "likelihood_2_neg = sum(likelihood_2_neg)*1.0/len(likelihood_2_neg)\n",
    "\n",
    "likelihood_1 =['love' in b['description'] for b in data2 if 'Romance' in b['categories']]\n",
    "likelihood_1 = sum(likelihood_1)*1.0/len(likelihood_1)\n",
    "\n",
    "likelihood_1_neg =['love' in b['description'] for b in data2 if not 'Romance' in b['categories']]\n",
    "likelihood_1_neg = sum(likelihood_1_neg)*1.0/len(likelihood_1_neg)\n",
    "\n",
    "nominator = prior * likelihood_1 * likelihood_2\n",
    "denominator = prior_neg * likelihood_1_neg * likelihood_2_neg\n",
    "prediction = nominator/denominator\n",
    "print \"prediction love no beaut is \", prediction\n",
    "\n",
    "# p(has category “Romance” | doesn't mentions “love” in description ∧ doesn't mentions “beaut” in description)\n",
    "likelihood_2 =[not 'beaut' in b['description'] for b in data2 if 'Romance' in b['categories']]\n",
    "likelihood_2 = sum(likelihood_2)*1.0/len(likelihood_2)\n",
    "\n",
    "likelihood_2_neg =[not 'beaut' in b['description'] for b in data2 if not 'Romance' in b['categories']]\n",
    "likelihood_2_neg = sum(likelihood_2_neg)*1.0/len(likelihood_2_neg)\n",
    "\n",
    "likelihood_1 =[not 'love' in b['description'] for b in data2 if 'Romance' in b['categories']]\n",
    "likelihood_1 = sum(likelihood_1)*1.0/len(likelihood_1)\n",
    "\n",
    "likelihood_1_neg =[not 'love' in b['description'] for b in data2 if not 'Romance' in b['categories']]\n",
    "likelihood_1_neg = sum(likelihood_1_neg)*1.0/len(likelihood_1_neg)\n",
    "\n",
    "nominator = prior * likelihood_1 * likelihood_2\n",
    "denominator = prior_neg * likelihood_1_neg * likelihood_2_neg\n",
    "prediction = nominator/denominator\n",
    "print \"prediction no love no beaut is \", prediction\n",
    "print \"prediction all false \""
   ]
  },
  {
   "cell_type": "code",
   "execution_count": 13,
   "metadata": {
    "collapsed": false
   },
   "outputs": [
    {
     "name": "stdout",
     "output_type": "stream",
     "text": [
      "FN is  1599\n",
      "TN is  48401\n",
      "True positive rate is  0.0\n",
      "True negative rate is  1.0\n",
      "False positive rate is  0.0\n",
      "False negative rate is  1.0\n"
     ]
    }
   ],
   "source": [
    "# part 3 Report the above probability for the four possible feature combinations (mentions “love” and “beaut”; mentions “love” and doesn’t mention “beaut” etc.).\n",
    "# mentions love and not beaut\n",
    "TP = 0 # label true and predict true, classfier always predict false\n",
    "FP = 0 # label false and predict true, classfier always predict false\n",
    "FN = 0 # labeled positive predict negative\n",
    "tmp = [\"Romance\" in b['categories'] for b in data2 if'love' in b['description'] and not 'beaut' in b['description']]\n",
    "FN = FN + sum(tmp)\n",
    "tmp = [\"Romance\" in b['categories'] for b in data2 if 'love' in b['description'] and 'beaut' in b['description']]\n",
    "FN = FN + sum(tmp)\n",
    "tmp = [\"Romance\" in b['categories'] for b in data2 if not 'love' in b['description'] and 'beaut' in b['description']]\n",
    "FN = FN + sum(tmp)\n",
    "tmp = [\"Romance\" in b['categories'] for b in data2 if not 'love' in b['description'] and not 'beaut' in b['description']]\n",
    "FN = FN + sum(tmp)\n",
    "print \"FN is \", FN\n",
    "TN = len(data2) - FN\n",
    "print \"TN is \", TN\n",
    "\n",
    "# TPR = TP/(TP + FN)\n",
    "TPR = float(TP)/(TP+FN)\n",
    "print \"True positive rate is \", TPR\n",
    "\n",
    "# TNR = TN / (TN + FP)\n",
    "TNR = float(TN)/(TN+FP)\n",
    "print \"True negative rate is \", TNR\n",
    "\n",
    "# FPR = (FP)/(FP + TN)\n",
    "FPR = float(FP)/(FP+TN)\n",
    "print \"False positive rate is \", FPR\n",
    "\n",
    "# FNR = (FN)/(FN + TP)\n",
    "FNR = float(FN)/(FN+TP)\n",
    "print \"False negative rate is \", FNR\n"
   ]
  },
  {
   "cell_type": "code",
   "execution_count": 22,
   "metadata": {
    "collapsed": false
   },
   "outputs": [
    {
     "name": "stdout",
     "output_type": "stream",
     "text": [
      "Part 3 correction \n",
      "classifier 2 possiblity is 0.0365275142315\n",
      "False\n",
      "classifier 3 possiblity is 0.0194858058247\n",
      "False\n",
      "nominator is  0.0792842595287\n",
      "classfier 4 possiblity is 0.0861115500079\n",
      "denominator is  0.920715740471\n",
      "False\n"
     ]
    }
   ],
   "source": []
  },
  {
   "cell_type": "code",
   "execution_count": null,
   "metadata": {
    "collapsed": true
   },
   "outputs": [],
   "source": []
  }
 ],
 "metadata": {
  "kernelspec": {
   "display_name": "Python 2",
   "language": "python",
   "name": "python2"
  },
  "language_info": {
   "codemirror_mode": {
    "name": "ipython",
    "version": 2
   },
   "file_extension": ".py",
   "mimetype": "text/x-python",
   "name": "python",
   "nbconvert_exporter": "python",
   "pygments_lexer": "ipython2",
   "version": "2.7.9"
  }
 },
 "nbformat": 4,
 "nbformat_minor": 0
}
